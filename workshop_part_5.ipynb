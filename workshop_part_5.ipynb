{
 "cells": [
  {
   "cell_type": "markdown",
   "metadata": {},
   "source": [
    "# Part 5: Running batch jobs with the exec interface\n",
    "\n",
    "GRASS modules and user scripts can be executed in a GRASS GIS [non-interactive session](https://grass.osgeo.org/grass-stable/manuals/grass7.html) with `--exec`.\n",
    "\n",
    "Here is a simple call to list all available rasters in PERMANENT mapset:"
   ]
  },
  {
   "cell_type": "code",
   "execution_count": null,
   "metadata": {},
   "outputs": [],
   "source": [
    "%%bash\n",
    "grass ~/grassdata/nc_spm_08_grass7/PERMANENT --exec g.list type=vector mapset=PERMANENT -t"
   ]
  },
  {
   "cell_type": "markdown",
   "metadata": {},
   "source": [
    "We can also provide a script. Here we create a simple Python script computing viewshed which requires 3 parameters (id, x and y coordinate) and write it to a file `myscript.py`. The desired output is a PNG rendering of the viewshed:"
   ]
  },
  {
   "cell_type": "code",
   "execution_count": null,
   "metadata": {},
   "outputs": [],
   "source": [
    "%%writefile myscript.py\n",
    "import sys\n",
    "import grass.script as gs\n",
    "import grass.jupyter as gj\n",
    "\n",
    "\n",
    "def main(cat, x, y):\n",
    "    gs.run_command(\"g.region\", raster=\"elevation\")\n",
    "    gs.run_command(\"r.viewshed\", input=\"elevation\", output=f\"viewshed_{cat}\", coordinates=(x, y),\n",
    "                   observer_elevation=3, quiet=True, overwrite=True)\n",
    "    img = gj.GrassRenderer(filename=f\"viewshed_{cat}.png\")\n",
    "    img.d_rast(map=\"elevation\")\n",
    "    img.d_rast(map=f\"viewshed_{cat}\")\n",
    "\n",
    "if __name__ == \"__main__\":\n",
    "    args = sys.argv[1:]\n",
    "    main(*args)\n"
   ]
  },
  {
   "cell_type": "markdown",
   "metadata": {},
   "source": [
    "Then, we call it with different parameters. In this case, since we are only interested in the output PNG file, we can use a temporary mapset. In this way, the runs won't interfere and can be parallelized, for example using [GNU Parallel](https://www.gnu.org/software/parallel/) (e.g., `parallel --jobs 10 < jobs.txt`)."
   ]
  },
  {
   "cell_type": "code",
   "execution_count": null,
   "metadata": {},
   "outputs": [],
   "source": [
    "%%bash\n",
    "\n",
    "grass --tmp-mapset ~/grassdata/nc_spm_08_grass7 --exec python3 myscript.py 1 633298 224283\n",
    "grass --tmp-mapset ~/grassdata/nc_spm_08_grass7 --exec python3 myscript.py 2 639805 224410\n",
    "grass --tmp-mapset ~/grassdata/nc_spm_08_grass7 --exec python3 myscript.py 3 632788 217958\n",
    "grass --tmp-mapset ~/grassdata/nc_spm_08_grass7 --exec python3 myscript.py 4 640844 218852"
   ]
  },
  {
   "cell_type": "markdown",
   "metadata": {},
   "source": [
    "Check one of the resulting PNG files:"
   ]
  },
  {
   "cell_type": "code",
   "execution_count": null,
   "metadata": {},
   "outputs": [],
   "source": [
    "from IPython.display import Image\n",
    "\n",
    "Image(\"viewshed_2.png\")"
   ]
  }
 ],
 "metadata": {
  "kernelspec": {
   "display_name": "Python 3",
   "language": "python",
   "name": "python3"
  },
  "language_info": {
   "codemirror_mode": {
    "name": "ipython",
    "version": 3
   },
   "file_extension": ".py",
   "mimetype": "text/x-python",
   "name": "python",
   "nbconvert_exporter": "python",
   "pygments_lexer": "ipython3",
   "version": "3.6.9"
  }
 },
 "nbformat": 4,
 "nbformat_minor": 4
}
